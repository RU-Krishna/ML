{
  "nbformat": 4,
  "nbformat_minor": 0,
  "metadata": {
    "colab": {
      "provenance": [],
      "authorship_tag": "ABX9TyMu3B0zXrCiv38h2lmCa2TI",
      "include_colab_link": true
    },
    "kernelspec": {
      "name": "python3",
      "display_name": "Python 3"
    },
    "language_info": {
      "name": "python"
    }
  },
  "cells": [
    {
      "cell_type": "markdown",
      "metadata": {
        "id": "view-in-github",
        "colab_type": "text"
      },
      "source": [
        "<a href=\"https://colab.research.google.com/github/RU-Krishna/ML/blob/main/Numpy.ipynb\" target=\"_parent\"><img src=\"https://colab.research.google.com/assets/colab-badge.svg\" alt=\"Open In Colab\"/></a>"
      ]
    },
    {
      "cell_type": "code",
      "source": [
        "list = ['Krishna', 'Priya', 'Swakshat', 'Prachi']\n",
        "for index, name in enumerate(list):\n",
        "  print(f'{index} -> {name}')"
      ],
      "metadata": {
        "colab": {
          "base_uri": "https://localhost:8080/"
        },
        "id": "WiiuP-dRbG6Z",
        "outputId": "37066dfd-76d1-4667-d2a2-c923312af1d5",
        "collapsed": true
      },
      "execution_count": null,
      "outputs": [
        {
          "output_type": "stream",
          "name": "stdout",
          "text": [
            "0 -> Krishna\n",
            "1 -> Priya\n",
            "2 -> Swakshat\n",
            "3 -> Prachi\n"
          ]
        }
      ]
    },
    {
      "cell_type": "code",
      "source": [
        "print(\"Hello World\")"
      ],
      "metadata": {
        "colab": {
          "base_uri": "https://localhost:8080/"
        },
        "id": "13Rhhyo_auXd",
        "outputId": "d1c42448-d7cb-4298-e7b2-1ea2feea5ba9"
      },
      "execution_count": null,
      "outputs": [
        {
          "output_type": "stream",
          "name": "stdout",
          "text": [
            "Hello World\n"
          ]
        }
      ]
    },
    {
      "cell_type": "markdown",
      "source": [
        "#NumPy\n",
        "\n",
        "***NumPy*** stands for Numerical Python.\n",
        "A package for data analaysis & scientific computing with python.\n",
        "NumPy uses a multi-dimensional array object, & has functions & tools for working with these arrays.\n",
        "\n",
        "Matrices in different forms:\n",
        "1. In python, we call them lists.\n",
        "2. In NumPy, we call them arrays.\n",
        "3. in Tensorflow, we call them tensors."
      ],
      "metadata": {
        "id": "mJ8l9uMLu-3j"
      }
    },
    {
      "cell_type": "markdown",
      "source": [
        "## Array Creation in  NumPy.\n",
        "\n",
        "### Array from lists.\n",
        "   To create an array form the list, we pass python list as an argument to the array function of the numpy.\n",
        "\n",
        "   For example:\n",
        "   array = np.array([1,2,3,4,5])\n",
        "\n"
      ],
      "metadata": {
        "id": "kS3FtbYgwCK7"
      }
    },
    {
      "cell_type": "code",
      "source": [
        "import numpy as np\n",
        "\n",
        "_1D_array = np.array([1,2,3,4,5,6,7,8,9,10])\n",
        "_2D_array = np.array([['Krishna', 20, 'BCA'],\n",
        "                      ['Rds', 20, 'BCA']])\n",
        "_3D_array = np.array(\n",
        "    [\n",
        "        [\n",
        "            [1,2,3,4,5],\n",
        "            [6,7,8,9,10]\n",
        "        ],\n",
        "        [\n",
        "            [11,12,13,14,15],\n",
        "            [16,17,18,19,20]\n",
        "        ]\n",
        "    ]\n",
        ")\n",
        "\n",
        "\n",
        "print(f'1D array: {_1D_array}\\n')\n",
        "print(f'2D array: {_2D_array}\\n')\n",
        "print(f'3D array: {_3D_array}\\n')"
      ],
      "metadata": {
        "colab": {
          "base_uri": "https://localhost:8080/"
        },
        "collapsed": true,
        "id": "3cfiWXq1f2tC",
        "outputId": "836f6c23-9cd6-4a2a-cf09-264e494718f4"
      },
      "execution_count": null,
      "outputs": [
        {
          "output_type": "stream",
          "name": "stdout",
          "text": [
            "1D array: [ 1  2  3  4  5  6  7  8  9 10]\n",
            "\n",
            "2D array: [['Krishna' '20' 'BCA']\n",
            " ['Rds' '20' 'BCA']]\n",
            "\n",
            "3D array: [[[ 1  2  3  4  5]\n",
            "  [ 6  7  8  9 10]]\n",
            "\n",
            " [[11 12 13 14 15]\n",
            "  [16 17 18 19 20]]]\n",
            "\n"
          ]
        }
      ]
    },
    {
      "cell_type": "markdown",
      "source": [
        "## Attributes of numpy Array.\n",
        "\n",
        "### 1. ndim:\n",
        "       Provides the dimension of the array.\n",
        "       For example: array.ndim.\n",
        "    \n",
        "### 2. shape:\n",
        "       It gives the sequence of integers indicating the size of the array for each dimension.\n",
        "       For example: array.shape\n",
        "\n",
        "### 3. size:\n",
        "        It gives the total number of elements in the array.\n",
        "        For example: array.size\n",
        "    \n",
        "### 4. dtype:\n",
        "        Provides the data type of the elements of the array.\n",
        "        For example: array.dtype.\n",
        "\n",
        "### 5. itemsize:\n",
        "        Size in bytes of each element of the array.\n",
        "        For example: array.itemsize.\n",
        "\n",
        "        "
      ],
      "metadata": {
        "id": "ODiWsp-7yJUc"
      }
    },
    {
      "cell_type": "code",
      "source": [
        "print(f'Dimension of the array: {_1D_array.ndim}, {_2D_array.ndim}, {_3D_array.ndim}\\n')\n",
        "\n",
        "print(f'Shape of the array: {_1D_array.shape}, {_2D_array.shape}, {_3D_array.shape}\\n')\n",
        "\n",
        "print(f'Data Type of the array: {_1D_array.dtype}, {_2D_array.dtype}, {_3D_array.dtype}\\n')\n",
        "\n",
        "print(f'Size of the array: {_1D_array.size}, {_2D_array.size}, {_3D_array.size}\\n')\n",
        "\n",
        "print(f'Item Size of the array: {_1D_array.itemsize}, {_2D_array.itemsize}, {_3D_array.itemsize}\\n')"
      ],
      "metadata": {
        "colab": {
          "base_uri": "https://localhost:8080/"
        },
        "id": "8vFveuKSzDut",
        "outputId": "d24c9c8e-24d7-4877-9dc8-b4e0e65d5d56"
      },
      "execution_count": null,
      "outputs": [
        {
          "output_type": "stream",
          "name": "stdout",
          "text": [
            "Dimension of the array: 1, 2, 3\n",
            "\n",
            "Shape of the array: (10,), (2, 3), (2, 2, 5)\n",
            "\n",
            "Data Type of the array: int64, <U21, int64\n",
            "\n",
            "Size of the array: 10, 6, 20\n",
            "\n",
            "Item Size of the array: 8, 84, 8\n",
            "\n"
          ]
        }
      ]
    },
    {
      "cell_type": "markdown",
      "source": [
        "## Other ways of creating Arrays.\n",
        "\n",
        "### 1. By specifying data type of the array.\n",
        "        To do that we specify the dtype argument of the array function.\n",
        "        For example: np.array([1,2,3], dtype = float)\n",
        "\n",
        "### 2. Create an array with all zeroes or ones.\n",
        "       For zeroes: np.zeroes((rows, columns))\n",
        "       For ones: np.ones((rows, columns))\n",
        "\n",
        "### 3. To create an array with a given range.\n",
        "       np.arange(start, stop(exclusive), steps)\n",
        "       here, arguments are default by definition."
      ],
      "metadata": {
        "id": "PqbZH5081T3y"
      }
    },
    {
      "cell_type": "code",
      "source": [
        "import numpy as np\n",
        "dTypeArray = np.array([1,2,3,4,5], dtype = float)\n",
        "\n",
        "zeroArray = np.zeros((4,5), dtype= int)\n",
        "\n",
        "onesArray = np.ones((5,6), dtype = int)\n",
        "\n",
        "range = np.arange(2,20)\n",
        "\n",
        "range2 = np.arange(2,20,10)\n",
        "\n",
        "\n",
        "print(f'Dimension Type Array: {dTypeArray}\\n')\n",
        "print(f'Zero Array: {zeroArray}\\n')\n",
        "print(f'Ones Array: {onesArray}\\n')\n",
        "print(f'Range Array without steps declaration: {range}\\n')\n",
        "print(f'Range array with steps declaration: {range2}')\n",
        "\n"
      ],
      "metadata": {
        "colab": {
          "base_uri": "https://localhost:8080/"
        },
        "id": "oERCl90z26hv",
        "outputId": "6ea9a21d-352a-4e22-86d8-06bf26b72896"
      },
      "execution_count": null,
      "outputs": [
        {
          "output_type": "stream",
          "name": "stdout",
          "text": [
            "Dimension Type Array: [1. 2. 3. 4. 5.]\n",
            "\n",
            "Zero Array: [[0 0 0 0 0]\n",
            " [0 0 0 0 0]\n",
            " [0 0 0 0 0]\n",
            " [0 0 0 0 0]]\n",
            "\n",
            "Ones Array: [[1 1 1 1 1 1]\n",
            " [1 1 1 1 1 1]\n",
            " [1 1 1 1 1 1]\n",
            " [1 1 1 1 1 1]\n",
            " [1 1 1 1 1 1]]\n",
            "\n",
            "Range Array without steps declaration: [ 2  3  4  5  6  7  8  9 10 11 12 13 14 15 16 17 18 19]\n",
            "\n",
            "Range array with steps declaration: [ 2 12]\n"
          ]
        }
      ]
    },
    {
      "cell_type": "markdown",
      "source": [
        "## Arithmetic Operation on Arrays.\n",
        "\n",
        "We can perform all the matrix arithmetic operations on arrays.\n",
        "\n",
        "1. Addition of two arrays: **\"array1 + array2\"**\n",
        "2. Subtraction of arrays: **\"array1 - array2\"**\n",
        "3. Element wise multiplication: **\"array1 * array2\"**\n",
        "4. Matrix Multiplication: **\"array1 @ array2\"**\n",
        "5. Exponentiation: **\"array1 ** array2\"**\n",
        "6. Division: **\"array1 / array2\"**\n",
        "7. Modulo operation: **\"array1 % array2\"**"
      ],
      "metadata": {
        "id": "5n6BpppmdNV5"
      }
    },
    {
      "cell_type": "code",
      "source": [
        "array1 = np.array([1,2,3,4])\n",
        "array2 = np.array([5,6,7,8])\n",
        "array3 = np.array([[5],[6],[7],[8]])\n",
        "\n",
        "#Addition\n",
        "print(array1 + array2)\n",
        "\n",
        "#Subtraction\n",
        "print(array2 - array1)\n",
        "\n",
        "#Element wise multipliation\n",
        "print(array1 * array2)\n",
        "\n",
        "#Matrix Mutiplication\n",
        "print(array1 @ array3)\n",
        "\n",
        "#Exponentiation\n",
        "print(array1 ** array2)\n",
        "\n",
        "#Division\n",
        "print(array2 / array1)\n",
        "\n",
        "#Modulo\n",
        "print(array2 % array1)"
      ],
      "metadata": {
        "colab": {
          "base_uri": "https://localhost:8080/"
        },
        "id": "6JGhVFlHeZia",
        "outputId": "f34366f7-9d9b-4405-f87a-4872be007f8e"
      },
      "execution_count": null,
      "outputs": [
        {
          "output_type": "stream",
          "name": "stdout",
          "text": [
            "[ 6  8 10 12]\n",
            "[4 4 4 4]\n",
            "[ 5 12 21 32]\n",
            "[70]\n",
            "[    1    64  2187 65536]\n",
            "[5.         3.         2.33333333 2.        ]\n",
            "[0 0 1 0]\n"
          ]
        }
      ]
    },
    {
      "cell_type": "code",
      "source": [
        "#Transaposition of matrix.\n",
        "\n",
        "array = np.array(\n",
        "    [\n",
        "        [1,2,3,4],\n",
        "        [5,6,7,8],\n",
        "        [9,0,11,12]\n",
        "    ]\n",
        ")\n",
        "\n",
        "\n",
        "print(f'Initial array: \\n{array}\\n')\n",
        "print(f'Transposed array: \\n{array.transpose()}')"
      ],
      "metadata": {
        "colab": {
          "base_uri": "https://localhost:8080/"
        },
        "id": "X8O40yOCgS6Q",
        "outputId": "3aaeca61-0120-4a53-c371-f092f0a8958d"
      },
      "execution_count": null,
      "outputs": [
        {
          "output_type": "stream",
          "name": "stdout",
          "text": [
            "Initial array: \n",
            "[[ 1  2  3  4]\n",
            " [ 5  6  7  8]\n",
            " [ 9  0 11 12]]\n",
            "\n",
            "Transposed array: \n",
            "[[ 1  5  9]\n",
            " [ 2  6  0]\n",
            " [ 3  7 11]\n",
            " [ 4  8 12]]\n"
          ]
        }
      ]
    },
    {
      "cell_type": "code",
      "source": [
        "#Sorting of array.\n",
        "array = np.array(\n",
        "    [\n",
        "        [3,26,56,9],\n",
        "        [78,25,48,95],\n",
        "        [69,28,941,36]\n",
        "    ]\n",
        ")\n",
        "print(f'Initial Array: \\n{array}\\n')\n",
        "array.sort(axis = 0)\n",
        "print(f'Sorted Array: \\n{array}')"
      ],
      "metadata": {
        "colab": {
          "base_uri": "https://localhost:8080/"
        },
        "id": "2KTOCFrIgyhT",
        "outputId": "a870a40c-a072-4df7-fb1e-dbb3328be561"
      },
      "execution_count": null,
      "outputs": [
        {
          "output_type": "stream",
          "name": "stdout",
          "text": [
            "Initial Array: \n",
            "[[  3  26  56   9]\n",
            " [ 78  25  48  95]\n",
            " [ 69  28 941  36]]\n",
            "\n",
            "Sorted Array: \n",
            "[[  3  25  48   9]\n",
            " [ 69  26  56  36]\n",
            " [ 78  28 941  95]]\n"
          ]
        }
      ]
    },
    {
      "cell_type": "code",
      "source": [
        "# Array Concatenation\n",
        "\n",
        "# Remember the dimsension(aixs) along which arrays are concatentating mus be same.\n",
        "\n",
        "# It mean either both arrays have same rows or same columns.\n",
        "\n",
        "# aixs = 1 -> rows, axis = 0 -> columns\n",
        "\n",
        "arrayX = np.array(\n",
        "    [\n",
        "        [2,6,8,9],\n",
        "        [8,2,1,4]\n",
        "    ]\n",
        ")\n",
        "\n",
        "arrayY = np.array(\n",
        "    [\n",
        "        [1,1,1,1],\n",
        "        [2,2,2,2]\n",
        "    ]\n",
        ")\n",
        "\n",
        "print( f'{arrayX.shape}\\n{arrayY.shape}')\n",
        "\n",
        "print(np.concatenate((arrayX, arrayY), axis = 1))"
      ],
      "metadata": {
        "colab": {
          "base_uri": "https://localhost:8080/"
        },
        "id": "2NFkHqt1ifRu",
        "outputId": "b96989f0-6df4-4fa4-8c3a-66740db7d524"
      },
      "execution_count": null,
      "outputs": [
        {
          "output_type": "stream",
          "name": "stdout",
          "text": [
            "(2, 4)\n",
            "(2, 4)\n",
            "[[2 6 8 9 1 1 1 1]\n",
            " [8 2 1 4 2 2 2 2]]\n"
          ]
        }
      ]
    },
    {
      "cell_type": "code",
      "source": [
        "# Reshpaing the array aka changing the dimensions of the array without changing its elements.\n",
        "\n",
        "array1 = np.array(\n",
        "    [\n",
        "        [2,5,3,9],\n",
        "        [8,9,7,5],\n",
        "        [0,3,6,0]\n",
        "    ]\n",
        ")\n",
        "print(array1.reshape(1,12))"
      ],
      "metadata": {
        "colab": {
          "base_uri": "https://localhost:8080/"
        },
        "id": "BAHQVk37j3_M",
        "outputId": "50faa85b-71c7-4693-8117-28fa664dd385"
      },
      "execution_count": null,
      "outputs": [
        {
          "output_type": "stream",
          "name": "stdout",
          "text": [
            "[[2 5 3 9 8 9 7 5 0 3 6 0]]\n"
          ]
        }
      ]
    }
  ]
}